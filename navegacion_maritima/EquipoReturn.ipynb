{
 "cells": [
  {
   "cell_type": "markdown",
   "id": "b619927d",
   "metadata": {},
   "source": [
    "# Hackaton UBU 2025\n",
    "## Problema de navegación marítima - Random Forest\n",
    "**Autor**: [José Gallardo Caballero](mailto:jgc1031@alu.ubu.es)\n",
    "\n",
    "<table>\n",
    "    <tr>\n",
    "        <td align=\"center\"><a href=\"https://joseleelportfolio.vercel.app\"><img src=\"https://github.com/Joseleelsuper.png\" width=\"100px;\" alt=\"\"/><br /><sub><b>José Gallardo</b></sub></a></td>\n",
    "    </tr>\n",
    "</table>"
   ]
  },
  {
   "cell_type": "markdown",
   "id": "e782208e",
   "metadata": {},
   "source": [
    "En este ejercicio se debía de predecir, dados unos ejercicios  no etiquetados, si su dificultad individual y global era baja, media o alta. Para ello, se nos proporcionaban unos ejercicios que sí que estaban etiquetados con muestras de ejemplo.\n",
    "\n",
    "Este es un típico problema de machine learning de clasificación, donde se utilizan técnicas de aprendizaje supervisado para predecir la clase a la que pertenece un nuevo dato en función de los datos de entrenamiento.\n",
    "\n",
    "En mi caso, he utilizado un modelo de Random Forest, que es un algoritmo de aprendizaje automático basado en árboles de decisión. Este modelo es capaz de manejar datos no lineales y es robusto frente al sobreajuste, además, me permitió elegir unas cuantas FEATURES (Columnas) numéricas para hacer una media y permitir así al modelo predecir de la mejor forma posible el resultado del ejercicio."
   ]
  },
  {
   "cell_type": "code",
   "execution_count": 1,
   "id": "d547d405",
   "metadata": {},
   "outputs": [],
   "source": [
    "# Librerías necesarias\n",
    "import os\n",
    "import glob\n",
    "import pandas as pd\n",
    "from sklearn.ensemble import RandomForestClassifier\n",
    "from scipy.stats import mode\n",
    "import time"
   ]
  },
  {
   "cell_type": "code",
   "execution_count": 2,
   "id": "4c48571c",
   "metadata": {},
   "outputs": [],
   "source": [
    "# Rutas\n",
    "DATA_DIR = \"./datos_etiquetados\"\n",
    "UNLABELED_DIR = \"./datos_no_etiquetados\"\n",
    "OUTPUT_DIR = \"./\"\n",
    "\n",
    "# Mapas de dificultad convertidos a números para el modelo\n",
    "DIFICULTAD_MAP = {'BAJA': 0, 'MEDIA': 1, 'ALTA': 2}\n",
    "DIFICULTAD_MAP_INV = {0: 'BAJA', 1: 'MEDIA', 2: 'ALTA'}\n",
    "\n",
    "# Otros parámetros modificables\n",
    "## Las features que se utilizarán en el modelo. Todas son las columnas de datos numéricos\n",
    "FEATURES = ['DistanciaInicioRiiesgo', 'DCPA_yds', 'VelNudos', 'VelNudosContacto', 'TCPA']\n",
    "## Nombre del CSV\n",
    "CSV_NAME = 'EquipoReturn_predicciones.csv'"
   ]
  },
  {
   "cell_type": "code",
   "execution_count": 3,
   "id": "466722a9",
   "metadata": {},
   "outputs": [],
   "source": [
    "def load_situaciones_labeled(data_dir: str = DATA_DIR) -> pd.DataFrame:\n",
    "    \"\"\"Carga los datos etiquetados desde archivos CSV.\n",
    "\n",
    "    Args:\n",
    "        data_dir (str): Directorio donde se encuentran los datos etiquetados. Defaults to DATA_DIR.\n",
    "\n",
    "    Returns:\n",
    "        pd.DataFrame: DataFrame con los datos etiquetados.\n",
    "    \"\"\"\n",
    "    all_files = glob.glob(os.path.join(data_dir, 'ejercicio_*.csv'))\n",
    "    dfs = []\n",
    "    for f in all_files:\n",
    "        df = pd.read_csv(f, comment='#')\n",
    "        dfs.append(df)\n",
    "    df = pd.concat(dfs, ignore_index=True)\n",
    "    # Convertir etiquetas a números\n",
    "    df = df[df['DificultadSituacion'].isin(DIFICULTAD_MAP)]\n",
    "    df['DificultadSituacionNum'] = df['DificultadSituacion'].map(DIFICULTAD_MAP)\n",
    "    return df"
   ]
  },
  {
   "cell_type": "code",
   "execution_count": 4,
   "id": "34d3a2aa",
   "metadata": {},
   "outputs": [],
   "source": [
    "def train_situacion_model(df: pd.DataFrame) -> tuple:\n",
    "    \"\"\"Entrena un modelo de Random Forest para predecir la dificultad de una situación.\n",
    "    Random Forest es un algoritmo de aprendizaje automático que utiliza múltiples árboles de decisión para mejorar la precisión y evitar el sobreajuste.\n",
    "    Decidí utilizar este algoritmo porque es robusto y funciona bien con datos tabulares, además de que permite manejar las features numéricas de manera eficiente.\n",
    "\n",
    "    Args:\n",
    "        df (pd.DataFrame): DataFrame con los datos etiquetados.\n",
    "\n",
    "    Returns:\n",
    "        tuple: Una tupla con el modelo entrenado y los features utilizados para la predicción.\n",
    "    \"\"\"\n",
    "    features = FEATURES\n",
    "    X = df[features]\n",
    "    y = df['DificultadSituacionNum']\n",
    "    clf = RandomForestClassifier(random_state=42)\n",
    "    clf.fit(X, y)\n",
    "    return clf, features"
   ]
  },
  {
   "cell_type": "code",
   "execution_count": 5,
   "id": "488df6ee",
   "metadata": {},
   "outputs": [],
   "source": [
    "def predict_and_save_unlabeled(model: RandomForestClassifier, features: list, unlabeled_dir: str = UNLABELED_DIR, output_dir: str = OUTPUT_DIR):\n",
    "    \"\"\"Predice la dificultad de situaciones en archivos no etiquetados y guarda los resultados.\n",
    "\n",
    "    Args:\n",
    "        model (RandomForestClassifier): Modelo entrenado para predecir la dificultad.\n",
    "        features (list): Lista de características utilizadas para la predicción.\n",
    "        unlabeled_dir (str, optional): Directorio donde se encuentran los archivos no etiquetados. Defaults to UNLABELED_DIR.\n",
    "        output_dir (str, optional): Directorio de salida. Defaults to OUTPUT_DIR.\n",
    "    \"\"\"\n",
    "    all_files = glob.glob(os.path.join(unlabeled_dir, 'ejercicio_*.csv'))\n",
    "    all_predictions = []\n",
    "    \n",
    "    for f in all_files:\n",
    "        df = pd.read_csv(f, comment='#')\n",
    "        # Predecir dificultad de cada situación\n",
    "        X_pred = df[features]\n",
    "        y_pred = model.predict(X_pred)\n",
    "        df['DificultadSituacion'] = [DIFICULTAD_MAP_INV[v] for v in y_pred]\n",
    "        # Dificultad global: moda de las situaciones\n",
    "        dificultad_global = mode(y_pred, keepdims=True)[0][0]\n",
    "        df['DificultadEjercicio'] = DIFICULTAD_MAP_INV[dificultad_global]\n",
    "        \n",
    "        # Añadir a la lista para el archivo combinado\n",
    "        all_predictions.append(df)\n",
    "    \n",
    "    # Combinar todos los DataFrames y guardar en un solo CSV\n",
    "    if all_predictions:\n",
    "        combined_df = pd.concat(all_predictions, ignore_index=True)\n",
    "        combined_path = os.path.join(output_dir, CSV_NAME)\n",
    "        combined_df.to_csv(combined_path, index=False)\n",
    "        print(f'Archivo combinado guardado en {combined_path}')"
   ]
  },
  {
   "cell_type": "code",
   "execution_count": 6,
   "id": "68430134",
   "metadata": {},
   "outputs": [
    {
     "name": "stdout",
     "output_type": "stream",
     "text": [
      "Situaciones cargadas: 1150\n",
      "Archivo combinado guardado en ./EquipoReturn_predicciones.csv\n",
      "Tiempo de ejecución: 0.63 segundos\n",
      "\n",
      "Estadísticas de características numéricas:\n",
      "      DistanciaInicioRiiesgo     DCPA_yds   VelNudos  VelNudosContacto  \\\n",
      "mean             3143.337643   871.867400  13.658626          9.758870   \n",
      "std              2566.897441   572.703934   4.934444          7.812196   \n",
      "min               201.190000     1.000000   1.000000          0.000000   \n",
      "max              9988.070000  1998.160000  26.600000         34.980000   \n",
      "\n",
      "            TCPA  \n",
      "mean    9.745029  \n",
      "std    29.307722  \n",
      "min     0.002340  \n",
      "max   797.836792  \n",
      "\n",
      "Porcentaje de dificultades (situación):\n",
      "DificultadSituacion\n",
      "MEDIA    47.48\n",
      "ALTA     34.96\n",
      "BAJA     17.57\n",
      "Name: proportion, dtype: float64\n",
      "\n",
      "Porcentaje de dificultades por ejercicio (predicción):\n",
      "DificultadEjercicio\n",
      "MEDIA    77.59\n",
      "ALTA     14.07\n",
      "BAJA      8.33\n",
      "Name: proportion, dtype: float64\n"
     ]
    }
   ],
   "source": [
    "def summarize_data(data_dir: str = DATA_DIR):\n",
    "    \"\"\"Muestra estadísticas descriptivas y porcentajes de uso de dificultades.\"\"\"\n",
    "    # Datos etiquetados\n",
    "    df = load_situaciones_labeled(data_dir)\n",
    "    print(\"\\nEstadísticas de características numéricas:\")\n",
    "    print(df[FEATURES].describe().loc[['mean', 'std', 'min', 'max']])\n",
    "    print(\"\\nPorcentaje de dificultades (situación):\")\n",
    "    print((df['DificultadSituacion'].value_counts(normalize=True) * 100).round(2))\n",
    "\n",
    "    # Predicciones unlabelled\n",
    "    pred_path = os.path.join(OUTPUT_DIR, CSV_NAME)\n",
    "    if os.path.exists(pred_path):\n",
    "        df_pred = pd.read_csv(pred_path)\n",
    "        print(\"\\nPorcentaje de dificultades por ejercicio (predicción):\")\n",
    "        print((df_pred['DificultadEjercicio'].value_counts(normalize=True) * 100).round(2))\n",
    "    else:\n",
    "        print(\"\\nNo se encontró el archivo de predicciones. Ejecuta la función de predicción primero.\")\n",
    "\n",
    "def main():\n",
    "    start_time = time.time()\n",
    "    df = load_situaciones_labeled(DATA_DIR)\n",
    "    print(f'Situaciones cargadas: {len(df)}')\n",
    "    model, features = train_situacion_model(df)\n",
    "    predict_and_save_unlabeled(model, features, UNLABELED_DIR, OUTPUT_DIR)\n",
    "    print(f\"Tiempo de ejecución: {time.time() - start_time:.2f} segundos\")\n",
    "    summarize_data(DATA_DIR)\n",
    "\n",
    "if __name__ == \"__main__\":\n",
    "    main()"
   ]
  },
  {
   "cell_type": "markdown",
   "id": "abad16cd",
   "metadata": {},
   "source": [
    "## Referencias\n",
    "- https://www.geeksforgeeks.org/random-forest-algorithm-in-machine-learning/ [09/05/2025]"
   ]
  }
 ],
 "metadata": {
  "kernelspec": {
   "display_name": ".venv",
   "language": "python",
   "name": "python3"
  },
  "language_info": {
   "codemirror_mode": {
    "name": "ipython",
    "version": 3
   },
   "file_extension": ".py",
   "mimetype": "text/x-python",
   "name": "python",
   "nbconvert_exporter": "python",
   "pygments_lexer": "ipython3",
   "version": "3.12.8"
  }
 },
 "nbformat": 4,
 "nbformat_minor": 5
}
